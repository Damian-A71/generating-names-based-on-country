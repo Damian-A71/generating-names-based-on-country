{
 "cells": [
  {
   "cell_type": "code",
   "execution_count": 1,
   "id": "ee9c145d-e65b-45c3-b455-ca4b533a4948",
   "metadata": {},
   "outputs": [],
   "source": [
    "import torch\n",
    "import torch.nn as nn\n",
    "import torch.nn.functional as F\n",
    "import matplotlib.pyplot as plt \n",
    "import csv\n",
    "import numpy as np\n",
    "import pandas as pd\n",
    "\n",
    "countries = []\n",
    "names = []\n",
    "\n",
    "with open('C:/Users/damia/Downloads/cleaned_names.csv', 'r', encoding='utf-8', errors='ignore', newline='') as csvfile:\n",
    "    spamreader = csv.reader(csvfile, delimiter=',', quotechar='|')\n",
    "    next(spamreader)\n",
    "    for row in spamreader:\n",
    "        # rowlist=row[0].split(',')\n",
    "        # print(rowlist)\n",
    "        if len(row)>=3:\n",
    "            country = row[2].strip()\n",
    "            name = row[0].strip()\n",
    "            if name != '':\n",
    "                countries.append(country)\n",
    "                names.append(name)\n"
   ]
  },
  {
   "cell_type": "code",
   "execution_count": 39,
   "id": "ee01e939-a7ba-4947-83b4-f32fce2ba4e6",
   "metadata": {
    "scrolled": true
   },
   "outputs": [],
   "source": [
    "vocab_size = len(set(' '.join(names)))\n",
    "cty_size = len(set(countries))\n",
    "\n",
    "ctytoi = {c:i for i, c in enumerate(sorted(list(set(countries))))}\n",
    "itocty = {i:c for i, c in enumerate(sorted(list(set(countries))))}\n",
    "chars = sorted(list(set(' '.join(names))))\n",
    "# vocab_size += 1\n",
    "stoi = {s: i for i, s in enumerate(chars)}\n",
    "itos = {i: s for s, i in stoi.items()}"
   ]
  },
  {
   "cell_type": "code",
   "execution_count": 45,
   "id": "dd5cff89-5bf7-4970-84d2-786c1a8adac1",
   "metadata": {},
   "outputs": [],
   "source": [
    "L = list(range(len(names)))\n",
    "np.random.shuffle(L)\n",
    "countries = [countries[l] for l in L]\n",
    "names = [names[l] for l in L]\n",
    "block_size = 5\n",
    "\n",
    "def load_dataset(names, countries, block_size = 5):\n",
    "    X, C, Y = [], [], []\n",
    "    for w, c in zip(names, countries):\n",
    "        context = [0]*block_size\n",
    "        ic = ctytoi[c]\n",
    "        for ch in w:\n",
    "            ix = stoi[ch]\n",
    "            X.append(context)\n",
    "            C.append(ic)\n",
    "            Y.append(ix)\n",
    "            context = context[1:]+[ix]\n",
    "    X = torch.tensor(X)\n",
    "    C = torch.tensor(C)\n",
    "    Y = torch.tensor(Y)\n",
    "    return X, C, Y\n",
    "\n",
    "n1 = int(0.7*len(names))\n",
    "Xtr, Ctr, Ytr = load_dataset(names[:n1], countries[:n1], block_size)\n",
    "Xde, Cde, Yde = load_dataset(names[n1:], countries[n1:], block_size)"
   ]
  },
  {
   "cell_type": "code",
   "execution_count": 47,
   "id": "46803041-49bf-466b-9e96-052c1088792c",
   "metadata": {},
   "outputs": [],
   "source": [
    "class Linear(nn.Module):\n",
    "  \n",
    "    def __init__(self, fan_in, fan_out, bias=True):\n",
    "        super().__init__()\n",
    "        self.weight = torch.randn((fan_in, fan_out)) / fan_in**0.5 # note: kaiming init\n",
    "        self.bias = torch.zeros(fan_out) if bias else None\n",
    "  \n",
    "    def __call__(self, x):\n",
    "        self.out = x @ self.weight\n",
    "        if self.bias is not None:\n",
    "            self.out += self.bias\n",
    "        return self.out\n",
    "  \n",
    "    def parameters(self):\n",
    "        return [self.weight] + ([] if self.bias is None else [self.bias])\n",
    "\n",
    "# -----------------------------------------------------------------------------------------------\n",
    "class BatchNorm1d(nn.Module):\n",
    "  \n",
    "    def __init__(self, dim, eps=1e-5, momentum=0.1):\n",
    "        super().__init__()\n",
    "        self.eps = eps\n",
    "        self.momentum = momentum\n",
    "        self.training = True\n",
    "    # parameters (trained with backprop)\n",
    "        self.gamma = torch.ones(dim)\n",
    "        self.beta = torch.zeros(dim)\n",
    "    # buffers (trained with a running 'momentum update')\n",
    "        self.running_mean = torch.zeros(dim)\n",
    "        self.running_var = torch.ones(dim)\n",
    "  \n",
    "    def __call__(self, x):\n",
    "    # calculate the forward pass\n",
    "        if self.training:\n",
    "            if x.ndim == 2:\n",
    "                dim = 0\n",
    "            elif x.ndim == 3:\n",
    "                dim = (0,1)\n",
    "            xmean = x.mean(dim, keepdim=True) # batch mean\n",
    "            xvar = x.var(dim, keepdim=True) # batch variance\n",
    "        else:\n",
    "            xmean = self.running_mean\n",
    "            xvar = self.running_var\n",
    "        xhat = (x - xmean) / torch.sqrt(xvar + self.eps) # normalize to unit variance\n",
    "        self.out = self.gamma * xhat + self.beta\n",
    "    # update the buffers\n",
    "        if self.training:\n",
    "            with torch.no_grad():\n",
    "                self.running_mean = (1 - self.momentum) * self.running_mean + self.momentum * xmean\n",
    "                self.running_var = (1 - self.momentum) * self.running_var + self.momentum * xvar\n",
    "        return self.out\n",
    "  \n",
    "    def parameters(self):\n",
    "        return [self.gamma, self.beta]\n",
    "\n",
    "# -----------------------------------------------------------------------------------------------\n",
    "class Tanh(nn.Module):\n",
    "    def __call__(self, x):\n",
    "        super().__init__()\n",
    "        self.out = torch.tanh(x)\n",
    "        return self.out\n",
    "  \n",
    "    def parameters(self):\n",
    "        return []\n",
    "\n",
    "# -----------------------------------------------------------------------------------------------\n",
    "class Embedding(nn.Module):\n",
    "  \n",
    "    def __init__(self, num_embeddings, embedding_dim):\n",
    "        super().__init__()\n",
    "        self.weight = torch.randn((num_embeddings, embedding_dim))\n",
    "    \n",
    "    def __call__(self, IX):\n",
    "        self.out = self.weight[IX]\n",
    "        return self.out\n",
    "  \n",
    "    def parameters(self):\n",
    "        return [self.weight]\n",
    "\n",
    "# -----------------------------------------------------------------------------------------------\n",
    "class FlattenConsecutive(nn.Module):\n",
    "  \n",
    "    def __init__(self, n):\n",
    "        super().__init__()\n",
    "        self.n = n\n",
    "    \n",
    "    def __call__(self, x):\n",
    "        B, T, C = x.shape\n",
    "        x = x.view(B, T//self.n, C*self.n) if T==(T//self.n)*self.n else x.view(B, 1, C*T)\n",
    "        if x.shape[1] == 1:\n",
    "            x = x.squeeze(1)\n",
    "        self.out = x\n",
    "        return self.out\n",
    "  \n",
    "    def parameters(self):\n",
    "        return []\n",
    "\n",
    "# -----------------------------------------------------------------------------------------------\n",
    "class Sequential(nn.Module):\n",
    "  \n",
    "    def __init__(self, layers):\n",
    "        super().__init__()\n",
    "        self.layers = layers\n",
    "  \n",
    "    def __call__(self, x):\n",
    "        for layer in self.layers:\n",
    "            x = layer(x)\n",
    "        self.out = x\n",
    "        return self.out\n",
    "  \n",
    "    def parameters(self):\n",
    "    # get parameters of all layers and stretch them out into one list\n",
    "        return [p for layer in self.layers for p in layer.parameters()]"
   ]
  },
  {
   "cell_type": "code",
   "execution_count": 87,
   "id": "fe491d47-0222-4aa7-9c45-c8a259b1809f",
   "metadata": {},
   "outputs": [],
   "source": [
    "n_embd = 48\n",
    "n_embd_cty = 8\n",
    "n_layer = 2\n",
    "tkemb = Embedding(vocab_size, n_embd)\n",
    "ctemb = Embedding(cty_size, n_embd_cty)\n",
    "batch_size = 32\n",
    "ix = torch.randint(0, Xtr.shape[0], (batch_size,))"
   ]
  },
  {
   "cell_type": "code",
   "execution_count": 89,
   "id": "01e1ab23-4ebd-47f1-8b1d-38dc6d6bf205",
   "metadata": {},
   "outputs": [],
   "source": [
    "Dict_cty = {c:sum([cty==c for cty in countries]) for c in list(set(countries))}\n",
    "\n",
    "x = list(range(len(Dict_cty)))\n",
    "y = list(Dict_cty.values())\n",
    "labels = list(Dict_cty.keys())"
   ]
  },
  {
   "cell_type": "code",
   "execution_count": 91,
   "id": "97516cd2-3391-4454-9592-b09ce545f8ac",
   "metadata": {},
   "outputs": [
    {
     "data": {
      "image/png": "[encoded data removed]",
      "text/plain": [
       "<Figure size 1200x400 with 1 Axes>"
      ]
     },
     "metadata": {},
     "output_type": "display_data"
    }
   ],
   "source": [
    "plt.figure(figsize=(12,4))\n",
    "plt.bar(x,y)\n",
    "plt.xticks(ticks=x, labels=labels, rotation=45)\n",
    "plt.xlabel('Country')\n",
    "plt.ylabel('Number of Names')\n",
    "plt.title('Distribution of Names by Country')\n",
    "plt.tight_layout()\n",
    "plt.show()"
   ]
  },
  {
   "cell_type": "code",
   "execution_count": null,
   "id": "a8cd1828-ef06-411d-b7c8-8e40f6aed9f9",
   "metadata": {},
   "outputs": [],
   "source": [
    "# plt.scatter(range(cty_size), Dict_cty.values())"
   ]
  },
  {
   "cell_type": "code",
   "execution_count": 93,
   "id": "e0e0c2a6-80bd-4ef8-b1c7-221bcb1733a4",
   "metadata": {},
   "outputs": [],
   "source": [
    "class Block(nn.Module):\n",
    "\n",
    "    def __init__(self, fan_in):\n",
    "        super().__init__()\n",
    "        self.li = Linear(fan_in, fan_in, bias=False)\n",
    "        self.bn = BatchNorm1d(fan_in)  # batchnorm\n",
    "\n",
    "    def forward(self, x):\n",
    "        x = x + F.tanh(self.bn(self.li(x))) # residue net\n",
    "        return x\n",
    "    \n",
    "    def parameters(self):\n",
    "        return self.li.parameters()+self.bn.parameters()\n",
    "\n",
    "class Model(nn.Module):\n",
    "\n",
    "    def __init__(self):\n",
    "        super().__init__()\n",
    "        self.token_embedding_table = Embedding(vocab_size, n_embd)\n",
    "        self.country_embedding_table = Embedding(cty_size, n_embd_cty)        \n",
    "        self.blocks = Sequential([Block(n_embd*block_size+n_embd_cty) for _ in range(n_layer)])\n",
    "        self.linear_f = Linear(n_embd*block_size+n_embd_cty, vocab_size)\n",
    "\n",
    "    def forward(self, idx, idx_cty, targets=None):\n",
    "        B, T = idx.shape\n",
    "\n",
    "        tok_emb = self.token_embedding_table(idx) # (B,T,C1)\n",
    "        cty_emb = self.country_embedding_table(idx_cty) # (B,C2)\n",
    "        x = torch.cat((tok_emb.view(B,-1), cty_emb),1) # (B,T*C1+C2)\n",
    "        x = self.blocks(x) # (B,T*C1+C2)\n",
    "        logits = self.linear_f(x) # (B,vocab_size)\n",
    "\n",
    "        if targets is None:\n",
    "            loss = None\n",
    "        else:\n",
    "            loss = F.cross_entropy(logits, targets)\n",
    "\n",
    "        return logits, loss\n",
    "    def parameters(self):\n",
    "        return self.token_embedding_table.parameters()+ \\\n",
    "                self.country_embedding_table.parameters() + \\\n",
    "                self.blocks.parameters()+self.linear_f.parameters()\n",
    "\n",
    "    def generate(self, idx, idx_cty, max_new_tokens=10, temperature=1.0):\n",
    "        for _ in range(max_new_tokens):\n",
    "            idx_cond = idx[:, -block_size:]\n",
    "            \n",
    "            logits, loss = self(idx_cond, idx_cty)\n",
    "            logits = logits / temperature\n",
    "            probs = F.softmax(logits, dim=-1)\n",
    "\n",
    "            idx_next = torch.multinomial(probs, num_samples=1)\n",
    "\n",
    "            if 'finished' not in locals():\n",
    "                finished = torch.zeros(idx.size(0), dtype=bool, device=idx.device)\n",
    "\n",
    "            idx_next[finished] = 0\n",
    "\n",
    "            idx = torch.cat((idx, idx_next), dim=1)\n",
    "\n",
    "            finished |= (idx_next.squeeze(1) ==0)\n",
    "\n",
    "            if finished.all():\n",
    "                print('All sequences finished early')\n",
    "                break\n",
    "                \n",
    "            # if torch.isnan(probs).any() or torch.isinf(probs).any() or (probs < 0).any():\n",
    "            #     print(\"Invalid probability values encountered. Stopping generation.\")\n",
    "            # idx_next = torch.multinomial(probs, num_samples=1)\n",
    "            # if idx_next.item() == 0:\n",
    "            #     print(\"End token generated. Stopping early.\")\n",
    "            #     break\n",
    "            # idx = torch.cat((idx, idx_next), dim=1) # (B, T+1)\n",
    "        return idx\n"
   ]
  },
  {
   "cell_type": "code",
   "execution_count": 95,
   "id": "8cbe062f-a0cc-4c5e-9651-51a1884832b0",
   "metadata": {},
   "outputs": [],
   "source": [
    "model = Model()"
   ]
  },
  {
   "cell_type": "code",
   "execution_count": 97,
   "id": "1d22238e-e712-4756-8b84-e9340313160a",
   "metadata": {},
   "outputs": [
    {
     "data": {
      "text/plain": [
       "[torch.Size([53, 48]),\n",
       " torch.Size([63, 8]),\n",
       " torch.Size([248, 248]),\n",
       " torch.Size([248]),\n",
       " torch.Size([248]),\n",
       " torch.Size([248, 248]),\n",
       " torch.Size([248]),\n",
       " torch.Size([248]),\n",
       " torch.Size([248, 53]),\n",
       " torch.Size([53])]"
      ]
     },
     "execution_count": 97,
     "metadata": {},
     "output_type": "execute_result"
    }
   ],
   "source": [
    "[i.shape for i in model.parameters()]"
   ]
  },
  {
   "cell_type": "code",
   "execution_count": 99,
   "id": "64d0dea6-4098-45e7-a428-fd763dc109dd",
   "metadata": {},
   "outputs": [
    {
     "name": "stdout",
     "output_type": "stream",
     "text": [
      "140245\n"
     ]
    },
    {
     "data": {
      "text/plain": [
       "Model(\n",
       "  (token_embedding_table): Embedding()\n",
       "  (country_embedding_table): Embedding()\n",
       "  (blocks): Sequential()\n",
       "  (linear_f): Linear()\n",
       ")"
      ]
     },
     "execution_count": 99,
     "metadata": {},
     "output_type": "execute_result"
    }
   ],
   "source": [
    "parameters = model.parameters()\n",
    "print(sum(p.nelement() for p in parameters))\n",
    "for p in parameters:\n",
    "    p.requires_grad = True\n",
    "device = torch.device(\"cuda\" if torch.cuda.is_available() else \"cpu\")\n",
    "model.to(device)"
   ]
  },
  {
   "cell_type": "code",
   "execution_count": 101,
   "id": "3e603894-b3a4-4b70-9b52-7bbd98b928c0",
   "metadata": {},
   "outputs": [],
   "source": [
    "@torch.no_grad()\n",
    "def eval_loss():\n",
    "    model.eval()\n",
    "\n",
    "    logits, loss = model(Xde, Cde, Yde)\n",
    "    model.train()\n",
    "\n",
    "    return loss.item(), loss.log10().item()"
   ]
  },
  {
   "cell_type": "code",
   "execution_count": 46,
   "id": "cf0aafd1-65aa-4193-9da0-bfd2ebcf9405",
   "metadata": {
    "scrolled": true
   },
   "outputs": [
    {
     "name": "stdout",
     "output_type": "stream",
     "text": [
      "      0/   2000: 5.1819 0.7145\n",
      "      0/   2000 4.8861\n",
      "    100/   2000: 3.0805 0.4886\n",
      "    200/   2000: 2.9464 0.4693\n",
      "    300/   2000: 2.8394 0.4532\n",
      "    400/   2000: 2.7863 0.4450\n",
      "    500/   2000: 2.7500 0.4393\n",
      "    600/   2000: 2.7450 0.4385\n",
      "    700/   2000: 2.7285 0.4359\n",
      "    800/   2000: 2.7032 0.4319\n",
      "    900/   2000: 2.7233 0.4351\n",
      "   1000/   2000: 2.6984 0.4311\n",
      "   1000/   2000 2.5542\n",
      "   1100/   2000: 2.6902 0.4298\n",
      "   1200/   2000: 2.6616 0.4251\n",
      "   1300/   2000: 2.6662 0.4259\n",
      "   1400/   2000: 2.6382 0.4213\n",
      "   1500/   2000: 2.6380 0.4213\n",
      "   1600/   2000: 2.6508 0.4234\n",
      "   1700/   2000: 2.6377 0.4212\n",
      "   1800/   2000: 2.6508 0.4234\n",
      "   1900/   2000: 2.6302 0.4200\n"
     ]
    }
   ],
   "source": [
    "max_steps = 2000\n",
    "eval_step = 100\n",
    "batch_size = 32\n",
    "lossi = []\n",
    "lossT = []\n",
    "lossD = []\n",
    "learning_rate = 1e-2\n",
    "\n",
    "optimizer = torch.optim.AdamW(model.parameters(), lr=learning_rate, weight_decay=1e-2)\n",
    "\n",
    "for i in range(max_steps):\n",
    "    if i%eval_step == 0:\n",
    "        model.eval()\n",
    "        lossTr, lossDe = eval_loss()\n",
    "        print(f'{i:7d}/{max_steps:7d}: {lossTr:.4f} {lossDe:.4f}')\n",
    "        lossT.append(lossTr)\n",
    "        lossD.append(lossDe)\n",
    "        model.train()\n",
    "\n",
    "    ix = torch.randint(0, Xtr.shape[0], (batch_size,))\n",
    "    Xb, Cb, Yb = Xtr[ix], Ctr[ix], Ytr[ix]\n",
    "\n",
    "    logits, loss = model(Xb, Cb, Yb)\n",
    "    optimizer.zero_grad(set_to_none=True)\n",
    "    loss.backward()\n",
    "    optimizer.step()\n",
    "    \n",
    "    if i % 1000 == 0:\n",
    "        print(f'{i:7d}/{max_steps:7d} {loss.item():.4f}')\n",
    "    lossi.append(loss.log10().item())"
   ]
  },
  {
   "cell_type": "code",
   "execution_count": null,
   "id": "c64ac4e6-393e-448d-86d9-95ae99ce8beb",
   "metadata": {},
   "outputs": [],
   "source": [
    "for block in model.blocks.layers:\n",
    "    block.bn.training = False\n",
    "\n",
    "# evaluate the loss\n",
    "@torch.no_grad() # this decorator disables gradient tracking inside pytorch\n",
    "def split_loss(split):\n",
    "    x,c,y = {\n",
    "        'train': (Xtr, Ctr, Ytr),\n",
    "        'val': (Xde, Cde, Yde),\n",
    "    }[split]\n",
    "    logits, loss = model(x, c, y)\n",
    "    print(split, loss.item())\n",
    "    \n",
    "@torch.no_grad() # this decorator disables gradient tracking inside pytorch\n",
    "def eval_loss():\n",
    "    _, lossTr = model(Xtr, Ctr, Ytr)\n",
    "    _, lossDe = model(Xde, Cde, Yde)\n",
    "    return lossTr.item(), lossDe.item()\n",
    "    \n",
    "split_loss('train')\n",
    "split_loss('val')"
   ]
  },
  {
   "cell_type": "code",
   "execution_count": 68,
   "id": "1bac5eab-8f9e-4bc5-8db0-cd41ca17e83e",
   "metadata": {},
   "outputs": [
    {
     "data": {
      "text/plain": [
       "[<matplotlib.lines.Line2D at 0x25019ca2300>]"
      ]
     },
     "execution_count": 68,
     "metadata": {},
     "output_type": "execute_result"
    },
    {
     "data": {
      "image/png": "[encoded data removed]",
      "text/plain": [
       "<Figure size 640x480 with 1 Axes>"
      ]
     },
     "metadata": {},
     "output_type": "display_data"
    }
   ],
   "source": [
    "# plt.plot(torch.tensor(lossi).view(-1,100).mean(1))\n",
    "plt.plot(torch.tensor(lossT))\n",
    "plt.plot(torch.tensor(lossD))"
   ]
  },
  {
   "cell_type": "code",
   "execution_count": 107,
   "id": "35fa8760-b9b2-432a-88c9-bd72a3bdce4f",
   "metadata": {},
   "outputs": [
    {
     "name": "stdout",
     "output_type": "stream",
     "text": [
      "0: rCDacQHeybrvpml\n",
      "1:  OzrkFxHWdrIdvZ\n",
      "2: Aj raLtdqLdJXYi\n",
      "3: LAJUxTdFIxeFkFO\n",
      "4: SImQSRIxF      \n",
      "5: TbIGBLankYYLOfT\n",
      "6: KSULNaOvNfLJDew\n",
      "7:  wBvtHRbwCigQjA\n",
      "8: QPNXBaXrLupSXLF\n",
      "9: mRWOO          \n",
      "10: lZsZHtybWLvIHVZ\n",
      "11: hkWlBnyCmfSDzoF\n",
      "12: jLVx yRLRgkVUcn\n",
      "13: JZksxQfRDw     \n",
      "14: xD bfHtQOmPbATA\n",
      "15: WKDBoHrEKMybhlK\n",
      "16: PLNYJVwhQEVMJwb\n",
      "17: FNHiuZOAQjROmfX\n",
      "18: XK IFpxNFkhtRFm\n",
      "19: OcLM LWJ       \n",
      "20: MIuahVdBOvUHCkF\n",
      "21: lkiseCcdaXjDXCL\n",
      "22: oIVKTVbvpQsVoXV\n",
      "23: GrniJjhihGEwCwG\n",
      "24: mAgKmwJfZJpGAsh\n",
      "25: qbpSoFIFikpccNO\n",
      "26: OjUuZmgEviGcScz\n",
      "27: jjBkPztvdcntdRS\n",
      "28: rzDIBqZtaaWuLSC\n",
      "29: lFkvNWoMMGCRl  \n",
      "30: CmhGejSxQblLoFS\n",
      "31: jWbVGwMaWWHhCDu\n"
     ]
    }
   ],
   "source": [
    "model=Model()\n",
    "g = torch.randint(low=0, high=vocab_size, size=(batch_size, block_size))\n",
    "h = torch.randint(low=0, high=cty_size, size=(batch_size,))\n",
    "output = model.generate(g, h, max_new_tokens=10, temperature=1.0)\n",
    "\n",
    "decoded = [''.join([itos[i.item()] for i in row]) for row in output]\n",
    "\n",
    "for i, name in enumerate(decoded):\n",
    "    print(f'{i}: {name}')"
   ]
  }
 ],
 "metadata": {
  "kernelspec": {
   "display_name": "Python [conda env:base] *",
   "language": "python",
   "name": "conda-base-py"
  },
  "language_info": {
   "codemirror_mode": {
    "name": "ipython",
    "version": 3
   },
   "file_extension": ".py",
   "mimetype": "text/x-python",
   "name": "python",
   "nbconvert_exporter": "python",
   "pygments_lexer": "ipython3",
   "version": "3.12.7"
  }
 },
 "nbformat": 4,
 "nbformat_minor": 5
}
